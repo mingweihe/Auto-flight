{
 "cells": [
  {
   "cell_type": "code",
   "execution_count": 1,
   "metadata": {
    "scrolled": true
   },
   "outputs": [
    {
     "name": "stderr",
     "output_type": "stream",
     "text": [
      "/anaconda3/lib/python3.6/site-packages/h5py/__init__.py:36: FutureWarning: Conversion of the second argument of issubdtype from `float` to `np.floating` is deprecated. In future, it will be treated as `np.float64 == np.dtype(float).type`.\n",
      "  from ._conv import register_converters as _register_converters\n"
     ]
    }
   ],
   "source": [
    "import numpy as np\n",
    "import cv2\n",
    "import matplotlib.pyplot as plt\n",
    "import tensorflow as tf\n",
    "import glob\n",
    "import random\n",
    "import os"
   ]
  },
  {
   "cell_type": "code",
   "execution_count": 2,
   "metadata": {},
   "outputs": [],
   "source": [
    "learning_rate = 0.01\n",
    "num_epochs = 50\n",
    "batch_size = 5\n",
    "num_classes = 10\n",
    "fully_connected_size = 111000\n",
    "chpk_dir = 'checkpoints/operation'\n",
    "chpk_name = 'model'\n",
    "PATH_TO_TRAIN_IMAGES_DIR = 'data/operation/training_set2'\n",
    "TRAIN_IMAGE_PATHS = glob.glob(os.path.join(PATH_TO_TRAIN_IMAGES_DIR, '*.png'))"
   ]
  },
  {
   "cell_type": "code",
   "execution_count": 3,
   "metadata": {},
   "outputs": [],
   "source": [
    "def plotImg(imgs):\n",
    "    fig = plt.figure()\n",
    "    for i in range(len(imgs)):\n",
    "        fig.add_subplot(1, len(imgs), i + 1)\n",
    "        plt.imshow(imgs[i])\n",
    "        plt.axis('off')"
   ]
  },
  {
   "cell_type": "code",
   "execution_count": 4,
   "metadata": {},
   "outputs": [
    {
     "name": "stdout",
     "output_type": "stream",
     "text": [
      "(24, 111000) (24, 10)\n"
     ]
    }
   ],
   "source": [
    "# training images collection\n",
    "train_data = []\n",
    "train_labels = []\n",
    "\n",
    "for image_path in TRAIN_IMAGE_PATHS:\n",
    "    cls = int(image_path[image_path.rfind('/')+1:image_path.index('-')])\n",
    "    img = cv2.imread(image_path, cv2.IMREAD_UNCHANGED)\n",
    "    img = cv2.cvtColor(img, cv2.COLOR_BGR2GRAY)\n",
    "    train_data.append(img)\n",
    "    train_labels.append(cls)\n",
    "images = np.reshape(train_data, [-1, fully_connected_size])\n",
    "labels = np.eye(num_classes)[train_labels]\n",
    "print(np.shape(images), np.shape(labels))"
   ]
  },
  {
   "cell_type": "code",
   "execution_count": 5,
   "metadata": {},
   "outputs": [],
   "source": [
    "# Placeholders\n",
    "image_holder = tf.placeholder(tf.float32, [None, fully_connected_size], name='image_holder')\n",
    "label_holder = tf.placeholder(tf.float32, [None, num_classes], name='label_holder')"
   ]
  },
  {
   "cell_type": "code",
   "execution_count": 6,
   "metadata": {},
   "outputs": [],
   "source": [
    "# Variables\n",
    "m = tf.Variable(tf.zeros([fully_connected_size, num_classes]))\n",
    "b = tf.Variable(tf.zeros([num_classes]))"
   ]
  },
  {
   "cell_type": "code",
   "execution_count": 7,
   "metadata": {},
   "outputs": [
    {
     "name": "stdout",
     "output_type": "stream",
     "text": [
      "WARNING:tensorflow:From <ipython-input-7-9e148f84a99f>:3: softmax_cross_entropy_with_logits (from tensorflow.python.ops.nn_ops) is deprecated and will be removed in a future version.\n",
      "Instructions for updating:\n",
      "\n",
      "Future major versions of TensorFlow will allow gradients to flow\n",
      "into the labels input on backprop by default.\n",
      "\n",
      "See @{tf.nn.softmax_cross_entropy_with_logits_v2}.\n",
      "\n"
     ]
    }
   ],
   "source": [
    "# Compute loss\n",
    "logits=tf.matmul(image_holder, m) + b\n",
    "cross_entropy = tf.nn.softmax_cross_entropy_with_logits(logits = logits, labels = label_holder)\n",
    "loss = tf.reduce_mean(cross_entropy)"
   ]
  },
  {
   "cell_type": "code",
   "execution_count": 8,
   "metadata": {},
   "outputs": [],
   "source": [
    "# Compute accuracy\n",
    "prediction = tf.matmul(image_holder, m) + b\n",
    "predictions = tf.argmax(prediction, 1, name='prediction')\n",
    "correct_pred = tf.equal(predictions, tf.argmax(label_holder, 1))\n",
    "accuracy = tf.reduce_mean(tf.cast(correct_pred, tf.float32))"
   ]
  },
  {
   "cell_type": "code",
   "execution_count": 9,
   "metadata": {},
   "outputs": [],
   "source": [
    "# Create optimizer\n",
    "optimizer = tf.train.GradientDescentOptimizer(learning_rate).minimize(loss)"
   ]
  },
  {
   "cell_type": "code",
   "execution_count": 10,
   "metadata": {},
   "outputs": [],
   "source": [
    "# Initialize variables\n",
    "init = tf.global_variables_initializer()\n",
    "# Launch session\n",
    "sess = tf.Session()\n",
    "sess.run(init)\n",
    "# saver for storing training result\n",
    "saver = tf.train.Saver()"
   ]
  },
  {
   "cell_type": "code",
   "execution_count": 11,
   "metadata": {},
   "outputs": [
    {
     "name": "stdout",
     "output_type": "stream",
     "text": [
      "epoch: 1 batch 1 loss:  2.3025851 accuracy:  0.2\n",
      "epoch: 1 batch 2 loss:  1434988.8 accuracy:  0.4\n",
      "epoch: 1 batch 3 loss:  8967674.0 accuracy:  0.2\n",
      "epoch: 1 batch 4 loss:  4868932.5 accuracy:  0.6\n",
      "epoch: 2 batch 1 loss:  495480.66 accuracy:  0.6\n",
      "epoch: 2 batch 2 loss:  4820001.0 accuracy:  0.2\n",
      "epoch: 2 batch 3 loss:  2775488.5 accuracy:  0.6\n",
      "epoch: 2 batch 4 loss:  291055.0 accuracy:  0.8\n",
      "epoch: 3 batch 1 loss:  2032993.0 accuracy:  0.2\n",
      "epoch: 3 batch 2 loss:  2608633.8 accuracy:  0.6\n",
      "epoch: 3 batch 3 loss:  1137547.8 accuracy:  0.8\n",
      "epoch: 3 batch 4 loss:  0.0 accuracy:  1.0\n",
      "epoch: 4 batch 1 loss:  132935.0 accuracy:  0.8\n",
      "epoch: 4 batch 2 loss:  0.0 accuracy:  1.0\n",
      "epoch: 4 batch 3 loss:  0.0 accuracy:  1.0\n",
      "epoch: 4 batch 4 loss:  0.0 accuracy:  1.0\n",
      "epoch: 5 batch 1 loss:  3238523.0 accuracy:  0.6\n",
      "epoch: 5 batch 2 loss:  1937498.8 accuracy:  0.6\n",
      "epoch: 5 batch 3 loss:  2216199.8 accuracy:  0.8\n",
      "epoch: 5 batch 4 loss:  1484521.9 accuracy:  0.4\n",
      "epoch: 6 batch 1 loss:  2681935.8 accuracy:  0.4\n",
      "epoch: 6 batch 2 loss:  2460981.5 accuracy:  0.8\n",
      "epoch: 6 batch 3 loss:  1442713.8 accuracy:  0.8\n",
      "epoch: 6 batch 4 loss:  0.0 accuracy:  1.0\n",
      "epoch: 7 batch 1 loss:  885921.2 accuracy:  0.8\n",
      "epoch: 7 batch 2 loss:  431611.7 accuracy:  0.8\n",
      "epoch: 7 batch 3 loss:  965343.6 accuracy:  0.6\n",
      "epoch: 7 batch 4 loss:  479619.0 accuracy:  0.8\n",
      "epoch: 8 batch 1 loss:  104375.0 accuracy:  0.8\n",
      "epoch: 8 batch 2 loss:  0.0 accuracy:  1.0\n",
      "epoch: 8 batch 3 loss:  4934440.0 accuracy:  0.4\n",
      "epoch: 8 batch 4 loss:  6665516.0 accuracy:  0.4\n",
      "epoch: 9 batch 1 loss:  1390238.8 accuracy:  0.4\n",
      "epoch: 9 batch 2 loss:  0.0 accuracy:  1.0\n",
      "epoch: 9 batch 3 loss:  6465990.5 accuracy:  0.4\n",
      "epoch: 9 batch 4 loss:  1107208.8 accuracy:  0.6\n",
      "epoch: 10 batch 1 loss:  3101411.2 accuracy:  0.6\n",
      "epoch: 10 batch 2 loss:  1926096.2 accuracy:  0.6\n",
      "epoch: 10 batch 3 loss:  2462023.5 accuracy:  0.6\n",
      "epoch: 10 batch 4 loss:  0.0 accuracy:  1.0\n",
      "epoch: 11 batch 1 loss:  3420766.5 accuracy:  0.2\n",
      "epoch: 11 batch 2 loss:  5316260.0 accuracy:  0.6\n",
      "epoch: 11 batch 3 loss:  3930323.2 accuracy:  0.6\n",
      "epoch: 11 batch 4 loss:  421060.84 accuracy:  0.6\n",
      "epoch: 12 batch 1 loss:  482803.16 accuracy:  0.6\n",
      "epoch: 12 batch 2 loss:  3542832.8 accuracy:  0.4\n",
      "epoch: 12 batch 3 loss:  1724188.4 accuracy:  0.6\n",
      "epoch: 12 batch 4 loss:  368204.9 accuracy:  0.8\n",
      "epoch: 13 batch 1 loss:  0.0 accuracy:  1.0\n",
      "epoch: 13 batch 2 loss:  0.0 accuracy:  1.0\n",
      "epoch: 13 batch 3 loss:  2760544.0 accuracy:  0.4\n",
      "epoch: 13 batch 4 loss:  0.0 accuracy:  1.0\n",
      "epoch: 14 batch 1 loss:  4678997.0 accuracy:  0.6\n",
      "epoch: 14 batch 2 loss:  568822.9 accuracy:  0.8\n",
      "epoch: 14 batch 3 loss:  0.0 accuracy:  1.0\n",
      "epoch: 14 batch 4 loss:  0.0 accuracy:  1.0\n",
      "epoch: 15 batch 1 loss:  0.0 accuracy:  1.0\n",
      "epoch: 15 batch 2 loss:  0.0 accuracy:  1.0\n",
      "epoch: 15 batch 3 loss:  0.0 accuracy:  1.0\n",
      "epoch: 15 batch 4 loss:  1301522.2 accuracy:  0.6\n",
      "epoch: 16 batch 1 loss:  2879420.8 accuracy:  0.6\n",
      "epoch: 16 batch 2 loss:  0.0 accuracy:  1.0\n",
      "epoch: 16 batch 3 loss:  270583.9 accuracy:  0.8\n",
      "epoch: 16 batch 4 loss:  1375816.2 accuracy:  0.4\n",
      "epoch: 17 batch 1 loss:  1080648.0 accuracy:  0.8\n",
      "epoch: 17 batch 2 loss:  127081.8 accuracy:  0.8\n",
      "epoch: 17 batch 3 loss:  0.0 accuracy:  1.0\n",
      "epoch: 17 batch 4 loss:  1045226.4 accuracy:  0.8\n",
      "epoch: 18 batch 1 loss:  0.0 accuracy:  1.0\n",
      "epoch: 18 batch 2 loss:  0.0 accuracy:  1.0\n",
      "epoch: 18 batch 3 loss:  0.0 accuracy:  1.0\n",
      "epoch: 18 batch 4 loss:  0.0 accuracy:  1.0\n",
      "epoch: 19 batch 1 loss:  0.0 accuracy:  1.0\n",
      "epoch: 19 batch 2 loss:  0.0 accuracy:  1.0\n",
      "epoch: 19 batch 3 loss:  0.0 accuracy:  1.0\n",
      "epoch: 19 batch 4 loss:  0.0 accuracy:  1.0\n",
      "epoch: 20 batch 1 loss:  0.0 accuracy:  1.0\n",
      "epoch: 20 batch 2 loss:  0.0 accuracy:  1.0\n",
      "epoch: 20 batch 3 loss:  0.0 accuracy:  1.0\n",
      "epoch: 20 batch 4 loss:  0.0 accuracy:  1.0\n",
      "epoch: 21 batch 1 loss:  0.0 accuracy:  1.0\n",
      "epoch: 21 batch 2 loss:  0.0 accuracy:  1.0\n",
      "epoch: 21 batch 3 loss:  0.0 accuracy:  1.0\n",
      "epoch: 21 batch 4 loss:  1371579.1 accuracy:  0.6\n",
      "epoch: 22 batch 1 loss:  0.0 accuracy:  1.0\n",
      "epoch: 22 batch 2 loss:  0.0 accuracy:  1.0\n",
      "epoch: 22 batch 3 loss:  0.0 accuracy:  1.0\n",
      "epoch: 22 batch 4 loss:  0.0 accuracy:  1.0\n",
      "epoch: 23 batch 1 loss:  0.0 accuracy:  1.0\n",
      "epoch: 23 batch 2 loss:  0.0 accuracy:  1.0\n",
      "epoch: 23 batch 3 loss:  0.0 accuracy:  1.0\n",
      "epoch: 23 batch 4 loss:  0.0 accuracy:  1.0\n",
      "epoch: 24 batch 1 loss:  0.0 accuracy:  1.0\n",
      "epoch: 24 batch 2 loss:  0.0 accuracy:  1.0\n",
      "epoch: 24 batch 3 loss:  0.0 accuracy:  1.0\n",
      "epoch: 24 batch 4 loss:  0.0 accuracy:  1.0\n",
      "epoch: 25 batch 1 loss:  0.0 accuracy:  1.0\n",
      "epoch: 25 batch 2 loss:  0.0 accuracy:  1.0\n",
      "epoch: 25 batch 3 loss:  0.0 accuracy:  1.0\n",
      "epoch: 25 batch 4 loss:  0.0 accuracy:  1.0\n",
      "epoch: 26 batch 1 loss:  0.0 accuracy:  1.0\n",
      "epoch: 26 batch 2 loss:  0.0 accuracy:  1.0\n",
      "epoch: 26 batch 3 loss:  0.0 accuracy:  1.0\n",
      "epoch: 26 batch 4 loss:  0.0 accuracy:  1.0\n",
      "epoch: 27 batch 1 loss:  0.0 accuracy:  1.0\n",
      "epoch: 27 batch 2 loss:  0.0 accuracy:  1.0\n",
      "epoch: 27 batch 3 loss:  0.0 accuracy:  1.0\n",
      "epoch: 27 batch 4 loss:  0.0 accuracy:  1.0\n",
      "epoch: 28 batch 1 loss:  0.0 accuracy:  1.0\n",
      "epoch: 28 batch 2 loss:  0.0 accuracy:  1.0\n",
      "epoch: 28 batch 3 loss:  0.0 accuracy:  1.0\n",
      "epoch: 28 batch 4 loss:  0.0 accuracy:  1.0\n",
      "epoch: 29 batch 1 loss:  0.0 accuracy:  1.0\n",
      "epoch: 29 batch 2 loss:  0.0 accuracy:  1.0\n",
      "epoch: 29 batch 3 loss:  0.0 accuracy:  1.0\n",
      "epoch: 29 batch 4 loss:  1016828.6 accuracy:  0.6\n",
      "epoch: 30 batch 1 loss:  662077.7 accuracy:  0.6\n",
      "epoch: 30 batch 2 loss:  456502.4 accuracy:  0.8\n",
      "epoch: 30 batch 3 loss:  239966.8 accuracy:  0.8\n",
      "epoch: 30 batch 4 loss:  0.0 accuracy:  1.0\n",
      "epoch: 31 batch 1 loss:  0.0 accuracy:  1.0\n",
      "epoch: 31 batch 2 loss:  4217.2 accuracy:  0.8\n",
      "epoch: 31 batch 3 loss:  0.0 accuracy:  1.0\n",
      "epoch: 31 batch 4 loss:  691169.6 accuracy:  0.6\n",
      "epoch: 32 batch 1 loss:  0.0 accuracy:  1.0\n",
      "epoch: 32 batch 2 loss:  4779604.5 accuracy:  0.2\n",
      "epoch: 32 batch 3 loss:  6633926.5 accuracy:  0.6\n",
      "epoch: 32 batch 4 loss:  1875609.4 accuracy:  0.8\n",
      "epoch: 33 batch 1 loss:  1805926.8 accuracy:  0.8\n",
      "epoch: 33 batch 2 loss:  264816.66 accuracy:  0.6\n",
      "epoch: 33 batch 3 loss:  0.0 accuracy:  1.0\n",
      "epoch: 33 batch 4 loss:  0.0 accuracy:  1.0\n",
      "epoch: 34 batch 1 loss:  0.0 accuracy:  1.0\n",
      "epoch: 34 batch 2 loss:  0.0 accuracy:  1.0\n",
      "epoch: 34 batch 3 loss:  0.0 accuracy:  1.0\n",
      "epoch: 34 batch 4 loss:  154530.7 accuracy:  0.8\n",
      "epoch: 35 batch 1 loss:  0.0 accuracy:  1.0\n",
      "epoch: 35 batch 2 loss:  1021285.0 accuracy:  0.8\n",
      "epoch: 35 batch 3 loss:  57551.8 accuracy:  0.8\n",
      "epoch: 35 batch 4 loss:  274847.3 accuracy:  0.6\n",
      "epoch: 36 batch 1 loss:  247783.3 accuracy:  0.8\n",
      "epoch: 36 batch 2 loss:  0.0 accuracy:  1.0\n",
      "epoch: 36 batch 3 loss:  0.0 accuracy:  1.0\n",
      "epoch: 36 batch 4 loss:  0.0 accuracy:  1.0\n",
      "epoch: 37 batch 1 loss:  716701.3 accuracy:  0.6\n",
      "epoch: 37 batch 2 loss:  0.0 accuracy:  1.0\n",
      "epoch: 37 batch 3 loss:  0.0 accuracy:  1.0\n",
      "epoch: 37 batch 4 loss:  0.0 accuracy:  1.0\n",
      "epoch: 38 batch 1 loss:  0.0 accuracy:  1.0\n",
      "epoch: 38 batch 2 loss:  0.0 accuracy:  1.0\n",
      "epoch: 38 batch 3 loss:  0.0 accuracy:  1.0\n",
      "epoch: 38 batch 4 loss:  0.0 accuracy:  1.0\n",
      "epoch: 39 batch 1 loss:  0.0 accuracy:  1.0\n",
      "epoch: 39 batch 2 loss:  0.0 accuracy:  1.0\n",
      "epoch: 39 batch 3 loss:  0.0 accuracy:  1.0\n",
      "epoch: 39 batch 4 loss:  104208.1 accuracy:  0.8\n",
      "epoch: 40 batch 1 loss:  565897.9 accuracy:  0.8\n",
      "epoch: 40 batch 2 loss:  0.0 accuracy:  1.0\n",
      "epoch: 40 batch 3 loss:  0.0 accuracy:  1.0\n",
      "epoch: 40 batch 4 loss:  75142.2 accuracy:  0.8\n",
      "epoch: 41 batch 1 loss:  0.0 accuracy:  1.0\n",
      "epoch: 41 batch 2 loss:  284243.0 accuracy:  0.8\n",
      "epoch: 41 batch 3 loss:  0.0 accuracy:  1.0\n",
      "epoch: 41 batch 4 loss:  0.0 accuracy:  1.0\n",
      "epoch: 42 batch 1 loss:  0.0 accuracy:  1.0\n",
      "epoch: 42 batch 2 loss:  0.0 accuracy:  1.0\n",
      "epoch: 42 batch 3 loss:  0.0 accuracy:  1.0\n",
      "epoch: 42 batch 4 loss:  0.0 accuracy:  1.0\n",
      "epoch: 43 batch 1 loss:  0.0 accuracy:  1.0\n",
      "epoch: 43 batch 2 loss:  0.0 accuracy:  1.0\n",
      "epoch: 43 batch 3 loss:  0.0 accuracy:  1.0\n",
      "epoch: 43 batch 4 loss:  0.0 accuracy:  1.0\n",
      "epoch: 44 batch 1 loss:  0.0 accuracy:  1.0\n",
      "epoch: 44 batch 2 loss:  0.0 accuracy:  1.0\n",
      "epoch: 44 batch 3 loss:  0.0 accuracy:  1.0\n",
      "epoch: 44 batch 4 loss:  0.0 accuracy:  1.0\n",
      "epoch: 45 batch 1 loss:  0.0 accuracy:  1.0\n",
      "epoch: 45 batch 2 loss:  0.0 accuracy:  1.0\n",
      "epoch: 45 batch 3 loss:  0.0 accuracy:  1.0\n",
      "epoch: 45 batch 4 loss:  0.0 accuracy:  1.0\n",
      "epoch: 46 batch 1 loss:  0.0 accuracy:  1.0\n",
      "epoch: 46 batch 2 loss:  0.0 accuracy:  1.0\n",
      "epoch: 46 batch 3 loss:  0.0 accuracy:  1.0\n",
      "epoch: 46 batch 4 loss:  0.0 accuracy:  1.0\n",
      "epoch: 47 batch 1 loss:  0.0 accuracy:  1.0\n",
      "epoch: 47 batch 2 loss:  0.0 accuracy:  1.0\n",
      "epoch: 47 batch 3 loss:  0.0 accuracy:  1.0\n",
      "epoch: 47 batch 4 loss:  0.0 accuracy:  1.0\n",
      "epoch: 48 batch 1 loss:  0.0 accuracy:  1.0\n",
      "epoch: 48 batch 2 loss:  0.0 accuracy:  1.0\n",
      "epoch: 48 batch 3 loss:  0.0 accuracy:  1.0\n",
      "epoch: 48 batch 4 loss:  0.0 accuracy:  1.0\n",
      "epoch: 49 batch 1 loss:  0.0 accuracy:  1.0\n",
      "epoch: 49 batch 2 loss:  0.0 accuracy:  1.0\n",
      "epoch: 49 batch 3 loss:  0.0 accuracy:  1.0\n",
      "epoch: 49 batch 4 loss:  0.0 accuracy:  1.0\n",
      "epoch: 50 batch 1 loss:  0.0 accuracy:  1.0\n",
      "epoch: 50 batch 2 loss:  0.0 accuracy:  1.0\n",
      "epoch: 50 batch 3 loss:  0.0 accuracy:  1.0\n",
      "epoch: 50 batch 4 loss:  0.0 accuracy:  1.0\n"
     ]
    }
   ],
   "source": [
    "total = len(images)\n",
    "num_batches = int(total/batch_size)\n",
    "# Loop over epochs\n",
    "for epoch in range(1, num_epochs + 1):\n",
    "    # Loop over batches\n",
    "    for batch in range(1, num_batches + 1):\n",
    "        startIndex = random.randint(0, total-batch_size)\n",
    "        endIndex = startIndex + batch_size\n",
    "        _, lossVal, accu = sess.run([optimizer, loss, accuracy],\n",
    "        feed_dict={image_holder: images[startIndex:endIndex], \n",
    "        label_holder: labels[startIndex:endIndex]})\n",
    "        # Display the final loss\n",
    "        print('epoch:', epoch, 'batch', batch, 'loss: ', lossVal, 'accuracy: ', accu)"
   ]
  },
  {
   "cell_type": "code",
   "execution_count": 12,
   "metadata": {},
   "outputs": [
    {
     "data": {
      "image/png": "[encoded data removed]",
      "text/plain": [
       "<matplotlib.figure.Figure at 0x127af5a20>"
      ]
     },
     "metadata": {},
     "output_type": "display_data"
    }
   ],
   "source": [
    "a = np.reshape(sess.run(m)[:,0], [300, -1])\n",
    "b = np.reshape(sess.run(m)[:,1], [300, -1])\n",
    "plotImg([a,b])"
   ]
  },
  {
   "cell_type": "code",
   "execution_count": 13,
   "metadata": {},
   "outputs": [],
   "source": [
    "# save training result\n",
    "saver.save(sess, os.path.join(chpk_dir, chpk_name))\n",
    "# following predictions will using stored model\n",
    "sess.close()"
   ]
  },
  {
   "cell_type": "code",
   "execution_count": 14,
   "metadata": {},
   "outputs": [
    {
     "name": "stdout",
     "output_type": "stream",
     "text": [
      "INFO:tensorflow:Restoring parameters from checkpoints/operation/model\n"
     ]
    }
   ],
   "source": [
    "# restore checkpoint\n",
    "sessRes = tf.Session()\n",
    "saver = tf.train.import_meta_graph(os.path.join(chpk_dir, chpk_name) + '.meta')\n",
    "saver.restore(sessRes, tf.train.latest_checkpoint(chpk_dir))"
   ]
  },
  {
   "cell_type": "code",
   "execution_count": 15,
   "metadata": {},
   "outputs": [
    {
     "data": {
      "text/plain": [
       "array([0, 4, 4, 0, 4, 1, 0, 1, 1, 4, 0, 4, 4, 4, 0, 4, 1, 4, 1, 0, 4, 4,\n",
       "       4, 4])"
      ]
     },
     "execution_count": 15,
     "metadata": {},
     "output_type": "execute_result"
    }
   ],
   "source": [
    "pred = sessRes.graph.get_tensor_by_name('prediction:0')\n",
    "img_holder = sessRes.graph.get_tensor_by_name('image_holder:0')\n",
    "sessRes.run(pred, feed_dict={img_holder:images})"
   ]
  },
  {
   "cell_type": "code",
   "execution_count": 16,
   "metadata": {},
   "outputs": [],
   "source": [
    "sessRes.close()"
   ]
  },
  {
   "cell_type": "code",
   "execution_count": 17,
   "metadata": {},
   "outputs": [],
   "source": [
    "s1 = tf.Session()\n",
    "s2 = tf.Session()"
   ]
  },
  {
   "cell_type": "code",
   "execution_count": 18,
   "metadata": {},
   "outputs": [
    {
     "name": "stdout",
     "output_type": "stream",
     "text": [
      "<tensorflow.python.client.session.Session object at 0x12ae3a588> <tensorflow.python.client.session.Session object at 0x126959630>\n",
      "<tensorflow.python.framework.ops.Graph object at 0x126973e10> <tensorflow.python.framework.ops.Graph object at 0x126973e10>\n"
     ]
    }
   ],
   "source": [
    "print(s1, s2)\n",
    "print(s1.graph, s2.graph)"
   ]
  },
  {
   "cell_type": "code",
   "execution_count": null,
   "metadata": {},
   "outputs": [],
   "source": []
  }
 ],
 "metadata": {
  "kernelspec": {
   "display_name": "Python 3",
   "language": "python",
   "name": "python3"
  },
  "language_info": {
   "codemirror_mode": {
    "name": "ipython",
    "version": 3
   },
   "file_extension": ".py",
   "mimetype": "text/x-python",
   "name": "python",
   "nbconvert_exporter": "python",
   "pygments_lexer": "ipython3",
   "version": "3.6.4"
  }
 },
 "nbformat": 4,
 "nbformat_minor": 2
}
